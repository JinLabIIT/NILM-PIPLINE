{
 "cells": [
  {
   "cell_type": "code",
   "execution_count": 1,
   "metadata": {},
   "outputs": [],
   "source": [
    "import pandas as pd\n",
    "import time"
   ]
  },
  {
   "cell_type": "code",
   "execution_count": 2,
   "metadata": {},
   "outputs": [
    {
     "data": {
      "text/plain": [
       "25.269377946853638"
      ]
     },
     "execution_count": 2,
     "metadata": {},
     "output_type": "execute_result"
    }
   ],
   "source": [
    "st = time.time()\n",
    "df = pd.read_csv('./data/dataset/dataset_x5_beta.csv', low_memory=False)\n",
    "time.time() - st"
   ]
  },
  {
   "cell_type": "code",
   "execution_count": 3,
   "metadata": {},
   "outputs": [
    {
     "data": {
      "text/plain": [
       "Index(['app_power', 'agg_power', 'start_time', 'end_time', 'house_id',\n",
       "       'appliance', 'contain_activation', 'is_synthetic', 'activate'],\n",
       "      dtype='object')"
      ]
     },
     "execution_count": 3,
     "metadata": {},
     "output_type": "execute_result"
    }
   ],
   "source": [
    "df.columns"
   ]
  },
  {
   "cell_type": "code",
   "execution_count": 4,
   "metadata": {
    "scrolled": false
   },
   "outputs": [
    {
     "name": "stdout",
     "output_type": "stream",
     "text": [
      "--------------------------------------------------------------------------------\n",
      "appliance            | is synthetic         | contain activation   | size      \n",
      "--------------------------------------------------------------------------------\n",
      "kettle               | False                | False                | 46860     \n",
      "kettle               | False                | True                 | 46860     \n",
      "kettle               | True                 | False                | 46860     \n",
      "kettle               | True                 | True                 | 46860     \n",
      "washing_machine      | False                | False                | 7055      \n",
      "washing_machine      | False                | True                 | 6635      \n",
      "washing_machine      | True                 | False                | 6635      \n",
      "washing_machine      | True                 | True                 | 5989      \n",
      "microwave            | False                | False                | 40325     \n",
      "microwave            | False                | True                 | 40635     \n",
      "microwave            | True                 | False                | 40635     \n",
      "microwave            | True                 | True                 | 40635     \n",
      "fridge               | False                | False                | 37500     \n",
      "fridge               | False                | True                 | 54365     \n",
      "fridge               | True                 | False                | 54365     \n",
      "fridge               | True                 | True                 | 53820     \n",
      "dishwasher           | False                | False                | 3625      \n",
      "dishwasher           | False                | True                 | 3595      \n",
      "dishwasher           | True                 | False                | 3595      \n",
      "dishwasher           | True                 | True                 | 3565      \n"
     ]
    }
   ],
   "source": [
    "print('-'*80)\n",
    "print('{:20s} | {:20s} | {:20s} | {:10s}'.format('appliance', 'is synthetic', 'contain activation', 'size'))\n",
    "print('-'*80)\n",
    "\n",
    "list_appliance = [\n",
    "    'kettle',\n",
    "    'washing_machine',\n",
    "    'microwave',\n",
    "    'fridge',\n",
    "    'dishwasher'\n",
    "]\n",
    "\n",
    "for appliance in list_appliance:\n",
    "    for syn in [0, 1]:\n",
    "        for act in [0, 1]:\n",
    "            size = df[(df['appliance'] == appliance) & \n",
    "                      (df['is_synthetic'] == syn) & \n",
    "                      (df['contain_activation'] == act)].shape[0]\n",
    "            print('{:20s} | {:20s} | {:20s} | {:10s}'.format(appliance, str(syn == 1), str(act == 1), str(size)))"
   ]
  },
  {
   "cell_type": "code",
   "execution_count": 5,
   "metadata": {
    "scrolled": false
   },
   "outputs": [
    {
     "name": "stdout",
     "output_type": "stream",
     "text": [
      "--------------------------------------------------------------------------------\n",
      "appliance            | House ID             | size      \n",
      "--------------------------------------------------------------------------------\n",
      "kettle               | -1                   |93720     \n",
      "kettle               | 1                    |82930     \n",
      "kettle               | 2                    |8250      \n",
      "kettle               | 3                    |600       \n",
      "kettle               | 4                    |0         \n",
      "kettle               | 5                    |1940      \n",
      "washing_machine      | -1                   |12624     \n",
      "washing_machine      | 1                    |13410     \n",
      "washing_machine      | 2                    |280       \n",
      "washing_machine      | 3                    |0         \n",
      "washing_machine      | 4                    |0         \n",
      "washing_machine      | 5                    |0         \n",
      "microwave            | -1                   |81270     \n",
      "microwave            | 1                    |76180     \n",
      "microwave            | 2                    |4470      \n",
      "microwave            | 3                    |0         \n",
      "microwave            | 4                    |0         \n",
      "microwave            | 5                    |310       \n",
      "fridge               | -1                   |108185    \n",
      "fridge               | 1                    |53815     \n",
      "fridge               | 2                    |38050     \n",
      "fridge               | 3                    |0         \n",
      "fridge               | 4                    |0         \n",
      "fridge               | 5                    |0         \n",
      "dishwasher           | -1                   |7160      \n",
      "dishwasher           | 1                    |6780      \n",
      "dishwasher           | 2                    |0         \n",
      "dishwasher           | 3                    |0         \n",
      "dishwasher           | 4                    |0         \n",
      "dishwasher           | 5                    |440       \n"
     ]
    }
   ],
   "source": [
    "# real data\n",
    "print('-'*80)\n",
    "print('{:20s} | {:20s} | {:10s}'.format('appliance', 'House ID', 'size'))\n",
    "print('-'*80)\n",
    "\n",
    "list_appliance = [\n",
    "    'kettle',\n",
    "    'washing_machine',\n",
    "    'microwave',\n",
    "    'fridge',\n",
    "    'dishwasher'\n",
    "]\n",
    "\n",
    "for appliance in list_appliance:\n",
    "    for house_id in [-1, 1, 2, 3, 4, 5]:\n",
    "        size = df[(df['appliance'] == appliance) & \n",
    "                  (df['house_id'] == house_id)].shape[0]\n",
    "        print('{:20s} | {:20s} |{:10s}'.format(appliance, str(house_id), str(size)))"
   ]
  }
 ],
 "metadata": {
  "kernelspec": {
   "display_name": "Python 3",
   "language": "python",
   "name": "python3"
  },
  "language_info": {
   "codemirror_mode": {
    "name": "ipython",
    "version": 3
   },
   "file_extension": ".py",
   "mimetype": "text/x-python",
   "name": "python",
   "nbconvert_exporter": "python",
   "pygments_lexer": "ipython3",
   "version": "3.7.3"
  }
 },
 "nbformat": 4,
 "nbformat_minor": 2
}
