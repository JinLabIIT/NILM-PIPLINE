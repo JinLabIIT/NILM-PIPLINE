{
 "cells": [
  {
   "cell_type": "code",
   "execution_count": 1,
   "metadata": {},
   "outputs": [],
   "source": [
    "import pandas as pd\n",
    "import json\n",
    "import numpy as np\n",
    "import math"
   ]
  },
  {
   "cell_type": "code",
   "execution_count": 3,
   "metadata": {},
   "outputs": [],
   "source": [
    "# return (appliance_power, label)\n",
    "# appliance_power:\n",
    "# if origin_len <= length\n",
    "#     padding with 1\n",
    "# else:\n",
    "#     select data in the mid\n",
    "# label:\n",
    "# 1 <-> contain activation\n",
    "# 0 <-> contain no activation\n",
    "def load_data_by_length(appliance, length, path='..//data/dataset/dataset_x5_beta.csv'):\n",
    "    df = pd.read_csv(path)\n",
    "    l = [ (json.loads(app_power), contain_activation) \n",
    "         for index, (app_power, contain_activation) in \n",
    "         df[(df['appliance']==appliance) & (df['is_synthetic']==0) ][['app_power', 'contain_activation']].iterrows()]\n",
    "\n",
    "    label = np.array([ t[1] for t in l ])\n",
    "\n",
    "    # padding\n",
    "    original_length = len(l[0][0])\n",
    "    left_padding_size = math.floor((length-original_length)/2)\n",
    "    right_padding_size = math.ceil((length-original_length)/2)\n",
    "    if original_length <= length:\n",
    "        app_power = np.array([ left_padding_size*[1] + t[0] + right_padding_size*[1] for t in l ])\n",
    "    else:\n",
    "        app_power = np.array([ t[0][left_padding_size*-1:right_padding_size] for t in l ])\n",
    "    return app_power, label"
   ]
  },
  {
   "cell_type": "code",
   "execution_count": 4,
   "metadata": {
    "scrolled": false
   },
   "outputs": [],
   "source": [
    "appliance = 'kettle'\n",
    "length = 100\n",
    "x, y = load_data_by_length(appliance, length)"
   ]
  }
 ],
 "metadata": {
  "kernelspec": {
   "display_name": "Python 3",
   "language": "python",
   "name": "python3"
  },
  "language_info": {
   "codemirror_mode": {
    "name": "ipython",
    "version": 3
   },
   "file_extension": ".py",
   "mimetype": "text/x-python",
   "name": "python",
   "nbconvert_exporter": "python",
   "pygments_lexer": "ipython3",
   "version": "3.7.3"
  }
 },
 "nbformat": 4,
 "nbformat_minor": 2
}
